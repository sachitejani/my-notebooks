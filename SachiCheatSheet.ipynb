{
  "nbformat": 4,
  "nbformat_minor": 0,
  "metadata": {
    "colab": {
      "provenance": [],
      "collapsed_sections": [],
      "authorship_tag": "ABX9TyPKu84X/pDgnXzm6o51O8Ng",
      "include_colab_link": true
    },
    "kernelspec": {
      "name": "python3",
      "display_name": "Python 3"
    },
    "language_info": {
      "name": "python"
    }
  },
  "cells": [
    {
      "cell_type": "markdown",
      "metadata": {
        "id": "view-in-github",
        "colab_type": "text"
      },
      "source": [
        "<a href=\"https://colab.research.google.com/github/sachitejani/my-notebooks/blob/main/SachiCheatSheet.ipynb\" target=\"_parent\"><img src=\"https://colab.research.google.com/assets/colab-badge.svg\" alt=\"Open In Colab\"/></a>"
      ]
    },
    {
      "cell_type": "markdown",
      "source": [
        "#Variables\n"
      ],
      "metadata": {
        "id": "FjlxNnmHmpQr"
      }
    },
    {
      "cell_type": "code",
      "execution_count": null,
      "metadata": {
        "id": "AjMwQ_b2mZSo"
      },
      "outputs": [],
      "source": [
        "one = 1\n",
        "two = 2\n",
        "one+two\n",
        "three = one+two"
      ]
    },
    {
      "cell_type": "markdown",
      "source": [
        "#Inputs\n"
      ],
      "metadata": {
        "id": "xRBgfYBImh_J"
      }
    },
    {
      "cell_type": "code",
      "source": [
        "data = input('tell me more ')"
      ],
      "metadata": {
        "colab": {
          "base_uri": "https://localhost:8080/"
        },
        "id": "5nI3UpOgptpq",
        "outputId": "935e82cd-69dc-4f84-c274-befd79c86a5b"
      },
      "execution_count": null,
      "outputs": [
        {
          "name": "stdout",
          "output_type": "stream",
          "text": [
            "tell me morehi\n"
          ]
        }
      ]
    },
    {
      "cell_type": "markdown",
      "source": [
        "#Ouputs\n"
      ],
      "metadata": {
        "id": "v5b1-Q-4mc4A"
      }
    },
    {
      "cell_type": "code",
      "source": [
        "print(one+two)\n",
        "min(one,two)\n",
        "print(data)\n",
        "print(three)"
      ],
      "metadata": {
        "colab": {
          "base_uri": "https://localhost:8080/"
        },
        "id": "Fn_MxvA3oQqp",
        "outputId": "962a6c33-2286-4149-bad9-7bc5e899f037"
      },
      "execution_count": null,
      "outputs": [
        {
          "output_type": "stream",
          "name": "stdout",
          "text": [
            "3\n",
            "hi\n",
            "3\n"
          ]
        }
      ]
    },
    {
      "cell_type": "markdown",
      "source": [
        "#Basic Datatypes\n"
      ],
      "metadata": {
        "id": "oRKg3hwlmj7Q"
      }
    },
    {
      "cell_type": "markdown",
      "source": [
        "## Strings"
      ],
      "metadata": {
        "id": "LO9ient0my0W"
      }
    },
    {
      "cell_type": "code",
      "source": [],
      "metadata": {
        "id": "gocszOT0nAwR"
      },
      "execution_count": null,
      "outputs": []
    },
    {
      "cell_type": "markdown",
      "source": [
        "## Lists"
      ],
      "metadata": {
        "id": "hvJ5pd8J1Nv3"
      }
    },
    {
      "cell_type": "code",
      "source": [
        "sales = [100,200,300,400,500,900]\n",
        "print(sales)\n",
        "print(type(sales))\n",
        "\n",
        "print(sales[0])\n",
        "\n",
        "# we can add and remove items from a list - it is not fixed\n",
        "# so we can count the number of items in a list at any time wiht built in function len()\n",
        "\n",
        "len(sales)"
      ],
      "metadata": {
        "id": "X4wDw2011SJe",
        "outputId": "8eb9c23a-678a-49a4-9697-bc3de0f5b22a",
        "colab": {
          "base_uri": "https://localhost:8080/"
        }
      },
      "execution_count": 13,
      "outputs": [
        {
          "output_type": "stream",
          "name": "stdout",
          "text": [
            "[100, 200, 300, 400, 500, 900]\n",
            "<class 'list'>\n",
            "100\n"
          ]
        },
        {
          "output_type": "execute_result",
          "data": {
            "text/plain": [
              "6"
            ]
          },
          "metadata": {},
          "execution_count": 13
        }
      ]
    },
    {
      "cell_type": "markdown",
      "source": [
        "## Dictionaries"
      ],
      "metadata": {
        "id": "Lreyr5z72sm9"
      }
    },
    {
      "cell_type": "code",
      "source": [
        "sales = {\"January\":100, \"February\":200}\n",
        "print(sales)\n",
        "\n",
        "#the keys or attribute names are the months and the values are the sales numbers\n",
        "\n",
        "print(sales.keys())\n",
        "print(sales.values())\n",
        "\n",
        "print(sales['January']) # how you get a specific item, you can't access by index here\n",
        "\n",
        "len(sales)"
      ],
      "metadata": {
        "colab": {
          "base_uri": "https://localhost:8080/"
        },
        "id": "_lMP6tS92sH2",
        "outputId": "58d6eb18-565d-488c-ce92-597f0c969b8e"
      },
      "execution_count": 14,
      "outputs": [
        {
          "output_type": "stream",
          "name": "stdout",
          "text": [
            "{'January': 100, 'February': 200}\n",
            "dict_keys(['January', 'February'])\n",
            "dict_values([100, 200])\n",
            "100\n"
          ]
        },
        {
          "output_type": "execute_result",
          "data": {
            "text/plain": [
              "2"
            ]
          },
          "metadata": {},
          "execution_count": 14
        }
      ]
    }
  ]
}