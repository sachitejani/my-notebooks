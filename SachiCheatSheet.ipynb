{
  "nbformat": 4,
  "nbformat_minor": 0,
  "metadata": {
    "colab": {
      "name": "SachiCheatSheet.ipynb",
      "provenance": [],
      "authorship_tag": "ABX9TyMliX3/iU+nGMqo0BnPezYA",
      "include_colab_link": true
    },
    "kernelspec": {
      "name": "python3",
      "display_name": "Python 3"
    },
    "language_info": {
      "name": "python"
    }
  },
  "cells": [
    {
      "cell_type": "markdown",
      "metadata": {
        "id": "view-in-github",
        "colab_type": "text"
      },
      "source": [
        "<a href=\"https://colab.research.google.com/github/sachitejani/my-notebooks/blob/main/SachiCheatSheet.ipynb\" target=\"_parent\"><img src=\"https://colab.research.google.com/assets/colab-badge.svg\" alt=\"Open In Colab\"/></a>"
      ]
    },
    {
      "cell_type": "markdown",
      "source": [
        "#Variables\n"
      ],
      "metadata": {
        "id": "FjlxNnmHmpQr"
      }
    },
    {
      "cell_type": "code",
      "execution_count": 10,
      "metadata": {
        "id": "AjMwQ_b2mZSo"
      },
      "outputs": [],
      "source": [
        "one = 1\n",
        "two = 2\n",
        "one+two\n",
        "three = one+two"
      ]
    },
    {
      "cell_type": "markdown",
      "source": [
        "#Inputs\n"
      ],
      "metadata": {
        "id": "xRBgfYBImh_J"
      }
    },
    {
      "cell_type": "code",
      "source": [
        "data = input('tell me more ')"
      ],
      "metadata": {
        "colab": {
          "base_uri": "https://localhost:8080/"
        },
        "id": "5nI3UpOgptpq",
        "outputId": "935e82cd-69dc-4f84-c274-befd79c86a5b"
      },
      "execution_count": 8,
      "outputs": [
        {
          "name": "stdout",
          "output_type": "stream",
          "text": [
            "tell me morehi\n"
          ]
        }
      ]
    },
    {
      "cell_type": "markdown",
      "source": [
        "#Ouputs\n"
      ],
      "metadata": {
        "id": "v5b1-Q-4mc4A"
      }
    },
    {
      "cell_type": "code",
      "source": [
        "print(one+two)\n",
        "min(one,two)\n",
        "print(data)\n",
        "print(three)"
      ],
      "metadata": {
        "colab": {
          "base_uri": "https://localhost:8080/"
        },
        "id": "Fn_MxvA3oQqp",
        "outputId": "962a6c33-2286-4149-bad9-7bc5e899f037"
      },
      "execution_count": 11,
      "outputs": [
        {
          "output_type": "stream",
          "name": "stdout",
          "text": [
            "3\n",
            "hi\n",
            "3\n"
          ]
        }
      ]
    },
    {
      "cell_type": "markdown",
      "source": [
        "#Basic Datatypes\n"
      ],
      "metadata": {
        "id": "oRKg3hwlmj7Q"
      }
    },
    {
      "cell_type": "markdown",
      "source": [
        "## Strings"
      ],
      "metadata": {
        "id": "LO9ient0my0W"
      }
    },
    {
      "cell_type": "code",
      "source": [],
      "metadata": {
        "id": "gocszOT0nAwR"
      },
      "execution_count": null,
      "outputs": []
    }
  ]
}