{
  "nbformat": 4,
  "nbformat_minor": 0,
  "metadata": {
    "colab": {
      "provenance": [],
      "authorship_tag": "ABX9TyM+qXqyIM4fOQiNgnOrrtwB",
      "include_colab_link": true
    },
    "kernelspec": {
      "name": "python3",
      "display_name": "Python 3"
    },
    "language_info": {
      "name": "python"
    }
  },
  "cells": [
    {
      "cell_type": "markdown",
      "metadata": {
        "id": "view-in-github",
        "colab_type": "text"
      },
      "source": [
        "<a href=\"https://colab.research.google.com/github/sachitejani/my-notebooks/blob/main/Basic_Statistics_Exercises.ipynb\" target=\"_parent\"><img src=\"https://colab.research.google.com/assets/colab-badge.svg\" alt=\"Open In Colab\"/></a>"
      ]
    },
    {
      "cell_type": "markdown",
      "source": [
        "## Challenge One"
      ],
      "metadata": {
        "id": "0_pX2B1G7mPx"
      }
    },
    {
      "cell_type": "code",
      "execution_count": 12,
      "metadata": {
        "colab": {
          "base_uri": "https://localhost:8080/"
        },
        "id": "YwHxAzLx69SB",
        "outputId": "a3397b53-b6b0-43d1-e3b2-43f9b4cb7174"
      },
      "outputs": [
        {
          "output_type": "stream",
          "name": "stdout",
          "text": [
            "50.3\n",
            "97.4\n",
            "83.64\n",
            "87.6\n"
          ]
        }
      ],
      "source": [
        "grades = [76.7, 85.1, 50.3, 89.8, 97.4, 75.5, 87.2, 88.0, 93.9, 92.5]\n",
        "# todo write some code here\n",
        "print(min(grades))\n",
        "print(max(grades))\n",
        "\n",
        "from statistics import mean, median\n",
        "print(mean(grades))\n",
        "print(median(grades))"
      ]
    },
    {
      "cell_type": "markdown",
      "source": [
        "## Challenge Two"
      ],
      "metadata": {
        "id": "9-Lw9CLz7pm_"
      }
    },
    {
      "cell_type": "code",
      "source": [
        "gradebook = {\n",
        "  \"downloadDate\": \"2018-06-05\",\n",
        "  \"professorId\": 123,\n",
        "  \"grades\":[76.7, 85.1, 50.3, 89.8, 97.4, 75.5, 87.2, 88.0, 93.9, 92.5]\n",
        "}\n",
        "# todo write some code here\n",
        "\n",
        "print(min(gradebook[\"grades\"]))\n",
        "print(max(gradebook[\"grades\"]))\n",
        "\n",
        "from statistics import mean, median\n",
        "print(mean(gradebook[\"grades\"]))\n",
        "print(median(gradebook[\"grades\"]))"
      ],
      "metadata": {
        "colab": {
          "base_uri": "https://localhost:8080/"
        },
        "id": "c9uuOH9A7r6e",
        "outputId": "0286d65e-6c91-4ab9-c318-718e2ba5654a"
      },
      "execution_count": 6,
      "outputs": [
        {
          "output_type": "stream",
          "name": "stdout",
          "text": [
            "50.3\n",
            "97.4\n",
            "83.64\n",
            "87.6\n"
          ]
        }
      ]
    },
    {
      "cell_type": "markdown",
      "source": [
        "## Challenge Three"
      ],
      "metadata": {
        "id": "OoDGHoqs8REw"
      }
    },
    {
      "cell_type": "code",
      "source": [
        "full_gradebook = {\n",
        "  \"downloadDate\": \"2018-06-05\",\n",
        "  \"professorId\": 123,\n",
        "  \"students\":[\n",
        "    {\"studentId\": 1, \"finalGrade\": 76.7},\n",
        "    {\"studentId\": 2, \"finalGrade\": 85.1},\n",
        "    {\"studentId\": 3, \"finalGrade\": 50.3},\n",
        "    {\"studentId\": 4, \"finalGrade\": 89.8},\n",
        "    {\"studentId\": 5, \"finalGrade\": 97.4},\n",
        "    {\"studentId\": 6, \"finalGrade\": 75.5},\n",
        "    {\"studentId\": 7, \"finalGrade\": 87.2},\n",
        "    {\"studentId\": 8, \"finalGrade\": 88.0},\n",
        "    {\"studentId\": 9, \"finalGrade\": 93.9},\n",
        "    {\"studentId\": 10, \"finalGrade\": 92.5}\n",
        "  ]\n",
        "}\n",
        "grades = []\n",
        "for student in full_gradebook[\"students\"]:\n",
        "    grades.append(student[\"finalGrade\"])\n",
        "\n",
        "print(min(grades))\n",
        "print(max(grades))\n",
        "\n",
        "from statistics import mean, median\n",
        "print(mean(grades))\n",
        "print(median(grades))\n"
      ],
      "metadata": {
        "colab": {
          "base_uri": "https://localhost:8080/"
        },
        "id": "cq9RVkYd8Vdl",
        "outputId": "02f09992-d1de-4583-ed8b-3972e913e888"
      },
      "execution_count": 10,
      "outputs": [
        {
          "output_type": "stream",
          "name": "stdout",
          "text": [
            "50.3\n",
            "97.4\n",
            "83.64\n",
            "87.6\n"
          ]
        }
      ]
    }
  ]
}