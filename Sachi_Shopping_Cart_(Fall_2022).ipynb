{
  "nbformat": 4,
  "nbformat_minor": 0,
  "metadata": {
    "colab": {
      "provenance": [],
      "collapsed_sections": [
        "Eo4jTk_9ZtH3"
      ],
      "include_colab_link": true
    },
    "kernelspec": {
      "name": "python3",
      "display_name": "Python 3"
    },
    "language_info": {
      "name": "python"
    }
  },
  "cells": [
    {
      "cell_type": "markdown",
      "metadata": {
        "id": "view-in-github",
        "colab_type": "text"
      },
      "source": [
        "<a href=\"https://colab.research.google.com/github/sachitejani/my-notebooks/blob/main/Sachi_Shopping_Cart_(Fall_2022).ipynb\" target=\"_parent\"><img src=\"https://colab.research.google.com/assets/colab-badge.svg\" alt=\"Open In Colab\"/></a>"
      ]
    },
    {
      "cell_type": "markdown",
      "source": [
        "# \"Shopping Cart\" App\n"
      ],
      "metadata": {
        "id": "kWD8aWhLRb3s"
      }
    },
    {
      "cell_type": "markdown",
      "source": [
        "Develop a Python application which will facilitate a real life grocery store's customer checkout process. The app's functionality should adhere to the \"Requirements\" section below."
      ],
      "metadata": {
        "id": "4Srdlse6bI5q"
      }
    },
    {
      "cell_type": "markdown",
      "source": [
        "## Business Prompt"
      ],
      "metadata": {
        "id": "HCMLilbO4rtr"
      }
    },
    {
      "cell_type": "markdown",
      "source": [
        "\n",
        "Your local corner grocery store has hired you as a technology consultant to help modernize their checkout system.\n",
        "\n",
        "Currently, when managing inventory, store employees affix a price tag sticker on each grocery item in stock. And when a customer visits the checkout counter with their selected items, a checkout clerk uses a calculator to add product prices, calculate tax, and calculate the total amount due.\n",
        "\n",
        "Instead, the store owner describes a desired checkout process which involves the checkout clerk scanning each product's barcode to automatically lookup prices, perform tax and total calculations, and print a customer receipt. To facilitate this process, the store owner has authorized the purchase of a few inexpensive [barcode scanners](https://www.amazon.com/UNIDEEPLY-Barcode-Scanner-Handheld-Scanning/dp/B07GYLKX4J/ref=sr_1_1_sspa), as well as checkout computers capable of running Python applications.\n",
        "\n",
        "The store owner says it would be \"acceptable but not preferable\" to manage the inventory of products via the application's source code, that it would be \"better\" to manage the inventory of products via a local CSV file stored on the checkout computer (i.e. updloaded or downloaded into the notebook's filesystem), and that it would be \"ideal\" to be able to manage the inventory of products via a centralized Google Sheet [spreadsheet document](https://docs.google.com/spreadsheets/d/1ItN7Cc2Yn4K90cMIsxi2P045Gzw0y2JHB_EkV4mXXpI/edit?usp=sharing).\n",
        "\n",
        "The store owner also says it would be \"nice to have\" a feature which prompts the checkout clerk or the customer to input the customer's email address in order to send them a receipt via email. And that it would be \"ideal\" to also save the customer's email addresses somewhere (if the customer consents to opt-in to the customer loyalty program)."
      ],
      "metadata": {
        "id": "dqaJ_O5H4wRC"
      }
    },
    {
      "cell_type": "markdown",
      "source": [
        "## Learning Objectives\n"
      ],
      "metadata": {
        "id": "qqSC3UQaRxl7"
      }
    },
    {
      "cell_type": "markdown",
      "source": [
        "\n",
        "\n",
        "  + Create a tool to facilitate and streamline a real-world business process.\n",
        "  + Practice processing and validating user inputs in Python.\n",
        "  + Reinforce introductory Python programming language concepts such as datatypes, functions, variables, and loops.\n",
        "  + Have fun! 😸 "
      ],
      "metadata": {
        "id": "lK0t6fqnRm60"
      }
    },
    {
      "cell_type": "markdown",
      "source": [
        "## Instructions\n"
      ],
      "metadata": {
        "id": "51K5AbeHSORR"
      }
    },
    {
      "cell_type": "markdown",
      "source": [
        "\n",
        "\n",
        "\n",
        "\n",
        "\n",
        "\n",
        "1. **Make a copy of this notebook** so you can edit and save your own version of it. Do the work in your copy of the notebook. \n",
        "2. **Update the title of your notebook** to include your name and/or net id.\n",
        "\n",
        "3. **Write Python code in your notebook** in the \"Solution\" section to meet the requirements set forth in the \"Requirements\" section. \n",
        "\n",
        "\n"
      ],
      "metadata": {
        "id": "i_II8VyWSpyL"
      }
    },
    {
      "cell_type": "markdown",
      "source": [
        "## Collaboration"
      ],
      "metadata": {
        "id": "Eo4jTk_9ZtH3"
      }
    },
    {
      "cell_type": "markdown",
      "source": [
        "\n",
        "\n",
        "It is OK to discuss this exercise generally with other students, to work together, and even to share some code snippets. \n",
        "\n",
        "It's OK to search the Internet for helpful resources like the course repository and Stack Overflow.\n",
        "\n",
        "HOWEVER: If you receive help from another student, or an Internet resource other than the course repository, you are expected to **attribute the source of help** in either a text cell or code comment.\n",
        "\n",
        "Attribution Comment Examples:\n",
        "  + \"Student _____ helped me with this part\"\n",
        "  + \"Student _____ and I worked on this part together\"\n",
        "  + \"Found this code from URL ________\"\n",
        "\n",
        "\n"
      ],
      "metadata": {
        "id": "dO9DxOGmZsE7"
      }
    },
    {
      "cell_type": "markdown",
      "source": [
        "### Guided Walkthrough Video\n",
        "\n",
        "Here is a [walkthrough YouTube video](https://youtu.be/3BaGb-1cIr0), but it is a bit old, and geared towards local development, so please keep in mind the following caveats:\n",
        "\n",
        "  1. Ignore instructions related to repository setup, using GitHub desktop, version control, making \"commits\", etc. - we are using a Colab notebook instead!\n",
        "  1. Around minute 50, a \"real-time lookups\" strategy is changed to a \"lookup later\" strategy, but either is fine!\n",
        "  3. If there are any discrepancies between requirements referenced in the video and requirements stated in this document, defer to the requirements stated in this document.\n",
        "\n"
      ],
      "metadata": {
        "id": "9FNGrN3QFMlV"
      }
    },
    {
      "cell_type": "markdown",
      "source": [
        "## Submission Instructions"
      ],
      "metadata": {
        "id": "IqzydW_4yalL"
      }
    },
    {
      "cell_type": "markdown",
      "source": [
        "\n",
        "\n",
        "To review your notebook / ensure it works as expected / prepare for evaluation: \n",
        "  1. Run it from scratch (\"Runtime\" > \"Restart and run all\"), provide any necessary user inputs, and verify you see the results you expect.\n",
        "\n",
        "\n",
        "When you're done coding and your notebook reflects your final work product, follow these steps to submit:\n",
        "\n",
        "  1. Download a copy of your notebook document in .ipynb format (\"File\" > \"Download\" > \"Download .ipynb\").\n",
        "  2. Upload the resulting .ipynb notebook file to Canvas."
      ],
      "metadata": {
        "id": "01wHWV3_ydAZ"
      }
    },
    {
      "cell_type": "markdown",
      "source": [
        "## Basic Requirements\n",
        "\n"
      ],
      "metadata": {
        "id": "tnj6eer-RnND"
      }
    },
    {
      "cell_type": "markdown",
      "source": [
        "\n",
        "Write a program that asks the user to input one or more product identifiers, then looks up the prices for each, then prints an itemized customer receipt including the total amount owed.\n",
        "\n",
        "The program should use one of the provided datastores (see \"Setup\" section) to represent the store owner's inventory of products and prices.\n",
        "\n",
        "The program should prompt the checkout clerk to input (or scan) the identifier of each shopping cart item, one at a time. It should also let the user know how to stop the process, by inputting the word \"DONE\" instead.\n",
        "\n",
        "When the clerk inputs a product identifier, the program should validate it, displaying a helpful message like \"Hey, are you sure that product identifier is correct? Please try again!\" if there are no products matching the given identifier.\n",
        "\n",
        "At any time the clerk should be able to indicate there are no more shopping cart items by inputting the word \"DONE\" or otherwise indicating they are done with the process. Before asking for identifiers, the program should provide clear instructions to the user about how to use the \"DONE\" keyword.\n",
        "\n",
        "After the clerk indicates there are no more items, the program should print a custom receipt on the screen. The receipt should include the following components:\n",
        "\n",
        "  + A grocery store name of your choice\n",
        "  + A grocery store phone number and/or website URL and/or address of choice\n",
        "  + The date and time of the beginning of the checkout process, formatted in a human-friendly way (e.g. `2020-02-07 03:54 PM`)\n",
        "  + The name and price of each shopping cart item, price being formatted as US dollars and cents (e.g. `$3.50`, etc.)\n",
        "  + The total cost of all shopping cart items (i.e. the \"subtotal\"), formatted as US dollars and cents (e.g. `$19.47`), calculated as the sum of their prices\n",
        "  + The amount of tax owed (e.g. `$1.70`), calculated by multiplying the total cost by a New York City sales tax rate of 8.75% (for the purposes of this project, groceries are not exempt from sales tax)\n",
        "  + The total amount owed, formatted as US dollars and cents (e.g. `$21.17`), calculated by adding together the amount of tax owed plus the total cost of all shopping cart items\n",
        "  + A friendly message thanking the customer and/or encouraging the customer to shop again\n",
        "\n",
        "The program should be able to process multiple shopping cart items of the same kind, but need not display any groupings or aggregations of those items (although it may optionally do so).\n",
        "\n"
      ],
      "metadata": {
        "id": "aLxBOtV_Cimv"
      }
    },
    {
      "cell_type": "markdown",
      "source": [
        "### Example Output\n"
      ],
      "metadata": {
        "id": "w109Lk3SCmNw"
      }
    },
    {
      "cell_type": "markdown",
      "source": [
        "\n",
        "\n",
        "``` sh\n",
        "Please input a product identifier: 1\n",
        "Please input a product identifier: 2\n",
        "Please input a product identifier: 3\n",
        "Please input a product identifier: 2\n",
        "Please input a product identifier: 1\n",
        "Please input a product identifier: DONE\n",
        "\n",
        "#> ---------------------------------\n",
        "#> GREEN FOODS GROCERY\n",
        "#> WWW.GREEN-FOODS-GROCERY.COM\n",
        "#> ---------------------------------\n",
        "#> CHECKOUT AT: 2020-02-07 03:54 PM\n",
        "#> ---------------------------------\n",
        "#> SELECTED PRODUCTS:\n",
        "#>  ... Chocolate Sandwich Cookies ($3.50)\n",
        "#>  ... All-Seasons Salt ($4.99)\n",
        "#>  ... Robust Golden Unsweetened Oolong Tea ($2.49)\n",
        "#>  ... All-Seasons Salt ($4.99)\n",
        "#>  ... Chocolate Sandwich Cookies ($3.50)\n",
        "#> ---------------------------------\n",
        "#> SUBTOTAL: $19.47\n",
        "#> TAX: $1.70\n",
        "#> TOTAL: $21.17\n",
        "#> ---------------------------------\n",
        "#> THANKS, SEE YOU AGAIN SOON!\n",
        "#> ---------------------------------\n",
        "\n",
        "```"
      ],
      "metadata": {
        "id": "o9XEJ2RTClB8"
      }
    },
    {
      "cell_type": "markdown",
      "source": [
        "## Further Exploration\n",
        "\n",
        "\n"
      ],
      "metadata": {
        "id": "sToAMIV9EnJZ"
      }
    },
    {
      "cell_type": "markdown",
      "source": [
        "\n",
        "This section provides **OPTIONAL** project challenges for students seeking a greater level of difficulty. \n",
        "\n",
        "> GUIDANCE: only attempt these challenges if you have completely and accurately addressed the basic requirements in their entirety. "
      ],
      "metadata": {
        "id": "WUNpEywROMRY"
      }
    },
    {
      "cell_type": "markdown",
      "source": [
        "### Alternative Inventory Options"
      ],
      "metadata": {
        "id": "KMcK0JExHfBr"
      }
    },
    {
      "cell_type": "markdown",
      "source": [
        "\n",
        "Instead of using the hard-coded `products` variable from Option A, use the provided CSV file from Option B, or ideally use the provided Google Sheet referenced in Option C.\n",
        "\n",
        "By default, your solution should use just one of these inventory options. It may optionally ask the user which inventory source they would like to use, and conditionally use the option they choose. But still we are only getting the data from one place.\n",
        "\n",
        "See the corresponding \"Setup\" cell(s) for more links and hints about implementing each inventory option.\n",
        "\n",
        "> NOTE: choose ONE inventory option only (hard coded, or CSV file, or Google Sheet). Which ever solution you choose, you should end up with a `products` variable that is a list of dictionaries. \n"
      ],
      "metadata": {
        "id": "_x_r7VDsHhla"
      }
    },
    {
      "cell_type": "markdown",
      "source": [
        "### Writing Receipts to File"
      ],
      "metadata": {
        "id": "QGsXv67aiiT4"
      }
    },
    {
      "cell_type": "markdown",
      "source": [
        "In addition to displaying a receipt at the end of the checkout process, the program should write the receipt information into a new \".txt\" file saved to the notebook's filesystem. After downloading the file, the clerk's printer-connected computer should be able to actually print a paper receipt from the information contained in this file.\n",
        "\n",
        "Each text file should be named according to the date and time the checkout process started (e.g. \"receipt-2019-07-04-15-43-13-579531.txt\", where the numbers represent the year, month, day, 24-hour-style hour, minute, second, and milliseconds/microseconds, respectively).\n",
        "\n",
        "> HINT: consult the notes on [file management](https://github.com/prof-rossetti/intro-to-python/blob/main/notes/python/file-management.md) for examples of how to write to file in Python\n"
      ],
      "metadata": {
        "id": "jOfvF5-wikWw"
      }
    },
    {
      "cell_type": "markdown",
      "source": [
        "### Sending Receipts via Email\n"
      ],
      "metadata": {
        "id": "NrXhvWy2GPtH"
      }
    },
    {
      "cell_type": "markdown",
      "source": [
        "In addition to displaying a receipt at the end of the checkout process, the program should prompt the checkout clerk or the customer to indicate whether the customer would like to receive the receipt by email. And if so, it should prompt the checkout clerk or the customer to input the customer's email address, and then it should send the receipt information to the customer by email. The clerk's network-connected computer should be able to send these emails.\n",
        "\n",
        "At the very least, the email should display the checkout timestamp and the total price. But ideally it should contain all the receipt information described in the basic requirements.\n",
        "\n",
        "> HINT: leverage the email-sending capabilities of [the `sendgrid` package](https://github.com/prof-rossetti/intro-to-python/blob/main/notes/python/packages/sendgrid.md), and optionally use [SendGrid Email Templates](https://github.com/prof-rossetti/intro-to-python/blob/main/notes/python/packages/sendgrid.md#email-templates) to further control the formatting of email contents.\n",
        "\n",
        "> NOTE: your notebook must contain text cell instructions for how someone can signup for the service and obtain their own credentials (i.e. API Key). If you use a template, you must include instructions for how someone could re-create that template (including sample HTML and sample data).\n",
        "\n",
        "\n",
        "> NOTE: we should take all precautions to hide our secret credentials and prevent their exposure - for example by asking for a secure input via the `getpass` method (see corresponding \"Setup\" cell), and by never printing the secret values."
      ],
      "metadata": {
        "id": "7bvwBFsAGOXD"
      }
    },
    {
      "cell_type": "markdown",
      "source": [
        "### Displaying Product Images"
      ],
      "metadata": {
        "id": "fHIRrT0IfPgV"
      }
    },
    {
      "cell_type": "markdown",
      "source": [
        "Optionally display the product images in the printed and/or emailed receipt.\n",
        "\n",
        "Use the same height for each image so they look  somewhat uniform.\n",
        "\n",
        "> HINT: see corresponding \"Setup\" cell for some image display examples."
      ],
      "metadata": {
        "id": "D7xA-rMSfbJk"
      }
    },
    {
      "cell_type": "markdown",
      "source": [
        "## Evaluation\n"
      ],
      "metadata": {
        "id": "GWj6HNQQSzZA"
      }
    },
    {
      "cell_type": "markdown",
      "source": [
        "Project submissions will be evaluated according to the requirements set forth above, as summarized by the rubric below:\n",
        "\n",
        "Category | Requirement | Weight\n",
        "--- | --- | ---\n",
        "Instructions | Provides instructions for how someone will need to run the program. If there are additional setup instructions, like how to obtain Sendgrid API keys, must include instructions for how someone should obtain their own API Key. | 10%\n",
        "Security | Protects secret credentials as necessary (only if using secret credentials to send emails, must ask for them via secure inputs using `getpass` approach). Otherwise full points / no deduction if not using secret credentials. | 10%\n",
        "Info Inputs | Captures / scans product identifiers. | 10%\n",
        "Info Inputs | Handles invalid inputs (like \"OOPS\" and/or out of range identifiers), fails gracefully on invalid product lookups. Does not try to process invalid inputs. Avoids a red / crashed cell. | 15%\n",
        "Info Inputs | Instructs the user about, and handles, the \"DONE\" signal. | 10%\n",
        "Info Outputs (Receipt) | Displays store info. | 10%\n",
        "Info Outputs (Receipt) | Displays checkout date and time, in a human-friendly format. | 10%\n",
        "Info Outputs (Receipt) | Displays names and prices of all scanned products, with prices formatted as USD. | 10%\n",
        "Info Outputs (Receipt) | Displays tax and totals, formatted as USD. | 15%\n",
        "\n",
        "This rubric is tentative, and may be subject to slight adjustments during the grading process.\n",
        "\n",
        "If experiencing execution error(s) while evaluating the application's required functionality, evaluators are advised to reduce the project's grade by between 4% and 25%, depending on the circumstances and severity of the error(s).\n",
        "\n",
        "Additionally, the professor reserves the right to apply bonus / extra credit for successfully completed further exploration challenges (for a maximum possible bonus total of around 12%):\n",
        "  + (+3% for CSV file inventory) OR (+6% for Google Sheets inventory)\n",
        "  + (+3% for writing receipt to TXT file) AND/OR (+6% for sending receipt via email)\n",
        "  + (+2% for displaying the product images in a reasonable, non-distracting, semi-uniform way)\n",
        "\n"
      ],
      "metadata": {
        "id": "ME5s2Ek6S1Dd"
      }
    },
    {
      "cell_type": "markdown",
      "source": [
        "# Setup / Starter Code"
      ],
      "metadata": {
        "id": "ekIj0aU66R9M"
      }
    },
    {
      "cell_type": "markdown",
      "source": [
        "This section contains some setup code. \n",
        "\n",
        "The only required cells are the price formatting function and the default products inventory option A.\n",
        "\n",
        "The rest are optional. Don't get distracted by them! Only explore if you have time and interest.\n",
        "\n",
        "\n"
      ],
      "metadata": {
        "id": "Axk6KalhB103"
      }
    },
    {
      "cell_type": "markdown",
      "source": [
        "### Price Formatting Function"
      ],
      "metadata": {
        "id": "D2_cqRlx9yas"
      }
    },
    {
      "cell_type": "code",
      "source": [
        "#\n",
        "# DOLLAR FORMATTING FUNCTION\n",
        "# ... use this function later if you find it helpful :-)\n",
        "#\n",
        "\n",
        "def to_usd(my_price):\n",
        "    \"\"\"\n",
        "    Converts a numeric value to usd-formatted string, for printing and display purposes.\n",
        "\n",
        "    Param: my_price (int or float) like 4000.444444\n",
        "\n",
        "    Example: to_usd(4000.444444)\n",
        "\n",
        "    Returns: $4,000.44\n",
        "    \"\"\"\n",
        "    return f\"${my_price:,.2f}\" #> $12,000.71\n",
        "\n",
        "\n",
        "# example invocations:\n",
        "print(to_usd(4.5))\n",
        "print(to_usd(1234567890.98765))"
      ],
      "metadata": {
        "colab": {
          "base_uri": "https://localhost:8080/"
        },
        "id": "SGztgSOT6ttE",
        "outputId": "4681c34d-3029-455e-abac-db2b604bb636"
      },
      "execution_count": 1,
      "outputs": [
        {
          "output_type": "stream",
          "name": "stdout",
          "text": [
            "$4.50\n",
            "$1,234,567,890.99\n"
          ]
        }
      ]
    },
    {
      "cell_type": "markdown",
      "source": [
        "### Inventory Option A (Hard Coded)"
      ],
      "metadata": {
        "id": "ISAWSzE392Wn"
      }
    },
    {
      "cell_type": "code",
      "source": [
        "#\n",
        "# PRODUCTS INVENTORY (OPTION A - HARD CODED)\n",
        "# ... use this variable as a default products inventory\n",
        "# ... or comment it out if you end up choosing a different option\n",
        "#\n",
        "\n",
        "# products = [\n",
        "#     {\"id\":1, \"name\": \"Chocolate Sandwich Cookies\", \"department\": \"snacks\", \"aisle\": \"cookies cakes\", \"price\": 3.50},\n",
        "#     {\"id\":2, \"name\": \"All-Seasons Salt\", \"department\": \"pantry\", \"aisle\": \"spices seasonings\", \"price\": 4.99},\n",
        "#     {\"id\":3, \"name\": \"Robust Golden Unsweetened Oolong Tea\", \"department\": \"beverages\", \"aisle\": \"tea\", \"price\": 2.49},\n",
        "#     {\"id\":4, \"name\": \"Smart Ones Classic Favorites Mini Rigatoni With Vodka Cream Sauce\", \"department\": \"frozen\", \"aisle\": \"frozen meals\", \"price\": 6.99},\n",
        "#     {\"id\":5, \"name\": \"Green Chile Anytime Sauce\", \"department\": \"pantry\", \"aisle\": \"marinades meat preparation\", \"price\": 7.99},\n",
        "#     {\"id\":6, \"name\": \"Dry Nose Oil\", \"department\": \"personal care\", \"aisle\": \"cold flu allergy\", \"price\": 21.99},\n",
        "#     {\"id\":7, \"name\": \"Pure Coconut Water With Orange\", \"department\": \"beverages\", \"aisle\": \"juice nectars\", \"price\": 3.50},\n",
        "#     {\"id\":8, \"name\": \"Cut Russet Potatoes Steam N' Mash\", \"department\": \"frozen\", \"aisle\": \"frozen produce\", \"price\": 4.25},\n",
        "#     {\"id\":9, \"name\": \"Light Strawberry Blueberry Yogurt\", \"department\": \"dairy eggs\", \"aisle\": \"yogurt\", \"price\": 6.50},\n",
        "#     {\"id\":10, \"name\": \"Sparkling Orange Juice & Prickly Pear Beverage\", \"department\": \"beverages\", \"aisle\": \"water seltzer sparkling water\", \"price\": 2.99},\n",
        "#     {\"id\":11, \"name\": \"Peach Mango Juice\", \"department\": \"beverages\", \"aisle\": \"refrigerated\", \"price\": 1.99},\n",
        "#     {\"id\":12, \"name\": \"Chocolate Fudge Layer Cake\", \"department\": \"frozen\", \"aisle\": \"frozen dessert\", \"price\": 18.50},\n",
        "#     {\"id\":13, \"name\": \"Saline Nasal Mist\", \"department\": \"personal care\", \"aisle\": \"cold flu allergy\", \"price\": 16.00},\n",
        "#     {\"id\":14, \"name\": \"Fresh Scent Dishwasher Cleaner\", \"department\": \"household\", \"aisle\": \"dish detergents\", \"price\": 4.99},\n",
        "#     {\"id\":15, \"name\": \"Overnight Diapers Size 6\", \"department\": \"babies\", \"aisle\": \"diapers wipes\", \"price\": 25.50},\n",
        "#     {\"id\":16, \"name\": \"Mint Chocolate Flavored Syrup\", \"department\": \"snacks\", \"aisle\": \"ice cream toppings\", \"price\": 4.50},\n",
        "#     {\"id\":17, \"name\": \"Rendered Duck Fat\", \"department\": \"meat seafood\", \"aisle\": \"poultry counter\", \"price\": 9.99},\n",
        "#     {\"id\":18, \"name\": \"Pizza for One Suprema Frozen Pizza\", \"department\": \"frozen\", \"aisle\": \"frozen pizza\", \"price\": 12.50},\n",
        "#     {\"id\":19, \"name\": \"Gluten Free Quinoa Three Cheese & Mushroom Blend\", \"department\": \"dry goods pasta\", \"aisle\": \"grains rice dried goods\", \"price\": 3.99},\n",
        "#     {\"id\":20, \"name\": \"Pomegranate Cranberry & Aloe Vera Enrich Drink\", \"department\": \"beverages\", \"aisle\": \"juice nectars\", \"price\": 4.25}\n",
        "# ] # based on data from Instacart: https://www.instacart.com/datasets/grocery-shopping-2017\n",
        "\n",
        "# # example references:\n",
        "# print(type(products))\n",
        "# print(products)\n"
      ],
      "metadata": {
        "colab": {
          "base_uri": "https://localhost:8080/"
        },
        "id": "o3bMy2Al6Tdm",
        "outputId": "ea56b587-52db-4824-b3ee-4579a4c977ac"
      },
      "execution_count": 3,
      "outputs": [
        {
          "output_type": "stream",
          "name": "stdout",
          "text": [
            "<class 'list'>\n",
            "[{'id': 1, 'name': 'Chocolate Sandwich Cookies', 'department': 'snacks', 'aisle': 'cookies cakes', 'price': 3.5}, {'id': 2, 'name': 'All-Seasons Salt', 'department': 'pantry', 'aisle': 'spices seasonings', 'price': 4.99}, {'id': 3, 'name': 'Robust Golden Unsweetened Oolong Tea', 'department': 'beverages', 'aisle': 'tea', 'price': 2.49}, {'id': 4, 'name': 'Smart Ones Classic Favorites Mini Rigatoni With Vodka Cream Sauce', 'department': 'frozen', 'aisle': 'frozen meals', 'price': 6.99}, {'id': 5, 'name': 'Green Chile Anytime Sauce', 'department': 'pantry', 'aisle': 'marinades meat preparation', 'price': 7.99}, {'id': 6, 'name': 'Dry Nose Oil', 'department': 'personal care', 'aisle': 'cold flu allergy', 'price': 21.99}, {'id': 7, 'name': 'Pure Coconut Water With Orange', 'department': 'beverages', 'aisle': 'juice nectars', 'price': 3.5}, {'id': 8, 'name': \"Cut Russet Potatoes Steam N' Mash\", 'department': 'frozen', 'aisle': 'frozen produce', 'price': 4.25}, {'id': 9, 'name': 'Light Strawberry Blueberry Yogurt', 'department': 'dairy eggs', 'aisle': 'yogurt', 'price': 6.5}, {'id': 10, 'name': 'Sparkling Orange Juice & Prickly Pear Beverage', 'department': 'beverages', 'aisle': 'water seltzer sparkling water', 'price': 2.99}, {'id': 11, 'name': 'Peach Mango Juice', 'department': 'beverages', 'aisle': 'refrigerated', 'price': 1.99}, {'id': 12, 'name': 'Chocolate Fudge Layer Cake', 'department': 'frozen', 'aisle': 'frozen dessert', 'price': 18.5}, {'id': 13, 'name': 'Saline Nasal Mist', 'department': 'personal care', 'aisle': 'cold flu allergy', 'price': 16.0}, {'id': 14, 'name': 'Fresh Scent Dishwasher Cleaner', 'department': 'household', 'aisle': 'dish detergents', 'price': 4.99}, {'id': 15, 'name': 'Overnight Diapers Size 6', 'department': 'babies', 'aisle': 'diapers wipes', 'price': 25.5}, {'id': 16, 'name': 'Mint Chocolate Flavored Syrup', 'department': 'snacks', 'aisle': 'ice cream toppings', 'price': 4.5}, {'id': 17, 'name': 'Rendered Duck Fat', 'department': 'meat seafood', 'aisle': 'poultry counter', 'price': 9.99}, {'id': 18, 'name': 'Pizza for One Suprema Frozen Pizza', 'department': 'frozen', 'aisle': 'frozen pizza', 'price': 12.5}, {'id': 19, 'name': 'Gluten Free Quinoa Three Cheese & Mushroom Blend', 'department': 'dry goods pasta', 'aisle': 'grains rice dried goods', 'price': 3.99}, {'id': 20, 'name': 'Pomegranate Cranberry & Aloe Vera Enrich Drink', 'department': 'beverages', 'aisle': 'juice nectars', 'price': 4.25}]\n"
          ]
        }
      ]
    },
    {
      "cell_type": "markdown",
      "source": [
        "### Inventory Option B (CSV File)\n",
        "\n"
      ],
      "metadata": {
        "id": "MVhv3dwV97KX"
      }
    },
    {
      "cell_type": "markdown",
      "source": [
        "See: \n",
        "\n",
        "  + https://github.com/prof-rossetti/intro-to-python/blob/main/notes/python/packages/pandas.md\n",
        "  + https://colab.research.google.com/drive/1v5ySM0JmW1bXXnK5Kuozj_FOSlcqAM_w?usp=sharing\n",
        "  + https://pandas.pydata.org/pandas-docs/stable/reference/api/pandas.read_csv.html"
      ],
      "metadata": {
        "id": "kbzOM6LcKPRK"
      }
    },
    {
      "cell_type": "code",
      "source": [
        "#\n",
        "# PRODUCTS INVENTORY (OPTION B - LOCAL CSV FILE)\n",
        "# ... run this cell to download a CSV file products inventory into the colab filesystem\n",
        "# ... or comment it out if you end up choosing a different option\n",
        "\n",
        "import os\n",
        "import pandas as pd\n",
        "\n",
        "url = \"https://raw.githubusercontent.com/prof-rossetti/intro-to-python/master/data/products.csv\"\n",
        "filepath = \"products.csv\"\n",
        "\n",
        "if not os.path.isfile(filepath):\n",
        "    print(\"DOWNLOADING\", filepath)\n",
        "    # FYI: this wget command is a terminal command, NOT python\n",
        "    # ... in colab, we can execute terminal commands by prefixing them with an exclamation point\n",
        "    # ... students are not responsible for knowing terminal commands like this\n",
        "    !wget -q $url \n",
        "\n",
        "# this should say True if the file got downloaded properly:\n",
        "print(os.path.isfile(filepath))\n",
        "\n",
        "products_df = pd.read_csv(filepath) \n",
        "products = products_df.to_dict(\"records\")\n",
        "print(products)"
      ],
      "metadata": {
        "colab": {
          "base_uri": "https://localhost:8080/"
        },
        "id": "GWG9zxbc7gmq",
        "outputId": "47db005c-b253-48e2-aa30-2a448db01af1"
      },
      "execution_count": 2,
      "outputs": [
        {
          "output_type": "stream",
          "name": "stdout",
          "text": [
            "True\n",
            "[{'id': 1, 'name': 'Chocolate Sandwich Cookies', 'aisle': 'cookies cakes', 'department': 'snacks', 'price': 3.5}, {'id': 2, 'name': 'All-Seasons Salt', 'aisle': 'spices seasonings', 'department': 'pantry', 'price': 4.99}, {'id': 3, 'name': 'Robust Golden Unsweetened Oolong Tea', 'aisle': 'tea', 'department': 'beverages', 'price': 2.49}, {'id': 4, 'name': 'Smart Ones Classic Favorites Mini Rigatoni With Vodka Cream Sauce', 'aisle': 'frozen meals', 'department': 'frozen', 'price': 6.99}, {'id': 5, 'name': 'Green Chile Anytime Sauce', 'aisle': 'marinades meat preparation', 'department': 'pantry', 'price': 7.99}, {'id': 6, 'name': 'Dry Nose Oil', 'aisle': 'cold flu allergy', 'department': 'personal care', 'price': 21.99}, {'id': 7, 'name': 'Pure Coconut Water With Orange', 'aisle': 'juice nectars', 'department': 'beverages', 'price': 3.5}, {'id': 8, 'name': \"Cut Russet Potatoes Steam N' Mash\", 'aisle': 'frozen produce', 'department': 'frozen', 'price': 4.25}, {'id': 9, 'name': 'Light Strawberry Blueberry Yogurt', 'aisle': 'yogurt', 'department': 'dairy eggs', 'price': 6.5}, {'id': 10, 'name': 'Sparkling Orange Juice & Prickly Pear Beverage', 'aisle': 'water seltzer sparkling water', 'department': 'beverages', 'price': 2.99}, {'id': 11, 'name': 'Peach Mango Juice', 'aisle': 'refrigerated', 'department': 'beverages', 'price': 1.99}, {'id': 12, 'name': 'Chocolate Fudge Layer Cake', 'aisle': 'frozen dessert', 'department': 'frozen', 'price': 18.5}, {'id': 13, 'name': 'Saline Nasal Mist', 'aisle': 'cold flu allergy', 'department': 'personal care', 'price': 16.0}, {'id': 14, 'name': 'Fresh Scent Dishwasher Cleaner', 'aisle': 'dish detergents', 'department': 'household', 'price': 4.99}, {'id': 15, 'name': 'Overnight Diapers Size 6', 'aisle': 'diapers wipes', 'department': 'babies', 'price': 25.5}, {'id': 16, 'name': 'Mint Chocolate Flavored Syrup', 'aisle': 'ice cream toppings', 'department': 'snacks', 'price': 4.5}, {'id': 17, 'name': 'Rendered Duck Fat', 'aisle': 'poultry counter', 'department': 'meat seafood', 'price': 9.99}, {'id': 18, 'name': 'Pizza for One Suprema  Frozen Pizza', 'aisle': 'frozen pizza', 'department': 'frozen', 'price': 12.5}, {'id': 19, 'name': 'Gluten Free Quinoa Three Cheese & Mushroom Blend', 'aisle': 'grains rice dried goods', 'department': 'dry goods pasta', 'price': 3.99}, {'id': 20, 'name': 'Pomegranate Cranberry & Aloe Vera Enrich Drink', 'aisle': 'juice nectars', 'department': 'beverages', 'price': 4.25}]\n"
          ]
        }
      ]
    },
    {
      "cell_type": "code",
      "source": [
        "# FYI - there might be one more step \n",
        "# ... to transform the CSV data into a products variable resembling the provided one\n",
        "# ... and you may have to import a third party package to make it work :-)\n",
        "#\n",
        "# HINT: you may need to reference the `filepath` variable from the cell above\n",
        "# ... as you use the `read_csv` function from the `pandas` package\n",
        "#\n",
        "\n",
        "# ...\n",
        "\n",
        "#products = _____________ "
      ],
      "metadata": {
        "id": "3esCuIAc99kt"
      },
      "execution_count": null,
      "outputs": []
    },
    {
      "cell_type": "markdown",
      "source": [
        "### Inventory Option C (Google Sheet)"
      ],
      "metadata": {
        "id": "A-yI-FT4-Nwb"
      }
    },
    {
      "cell_type": "markdown",
      "source": [
        "See: \n",
        "\n",
        "  + https://docs.google.com/spreadsheets/d/1ItN7Cc2Yn4K90cMIsxi2P045Gzw0y2JHB_EkV4mXXpI/edit?usp=sharing\n",
        "  + https://github.com/prof-rossetti/intro-to-python/blob/main/notes/python/packages/gspread.md\n",
        "  + https://github.com/prof-rossetti/intro-to-python/issues/65#issuecomment-1244088096\n"
      ],
      "metadata": {
        "id": "mEFdFj5dAWK-"
      }
    },
    {
      "cell_type": "markdown",
      "source": [
        "TRIED THIS AND FAILED"
      ],
      "metadata": {
        "id": "lDE7hDk7u1fB"
      }
    },
    {
      "cell_type": "code",
      "source": [
        "# !pip install gspread"
      ],
      "metadata": {
        "colab": {
          "base_uri": "https://localhost:8080/"
        },
        "id": "tmyWf81qWz_W",
        "outputId": "92527d87-ab09-45e0-f97d-4cde4bf48acf"
      },
      "execution_count": 1,
      "outputs": [
        {
          "output_type": "stream",
          "name": "stdout",
          "text": [
            "Looking in indexes: https://pypi.org/simple, https://us-python.pkg.dev/colab-wheels/public/simple/\n",
            "Requirement already satisfied: gspread in /usr/local/lib/python3.7/dist-packages (5.5.0)\n",
            "Requirement already satisfied: google-auth>=1.12.0 in /usr/local/lib/python3.7/dist-packages (from gspread) (1.35.0)\n",
            "Requirement already satisfied: google-auth-oauthlib>=0.4.1 in /usr/local/lib/python3.7/dist-packages (from gspread) (0.4.6)\n",
            "Requirement already satisfied: six>=1.9.0 in /usr/local/lib/python3.7/dist-packages (from google-auth>=1.12.0->gspread) (1.15.0)\n",
            "Requirement already satisfied: setuptools>=40.3.0 in /usr/local/lib/python3.7/dist-packages (from google-auth>=1.12.0->gspread) (57.4.0)\n",
            "Requirement already satisfied: cachetools<5.0,>=2.0.0 in /usr/local/lib/python3.7/dist-packages (from google-auth>=1.12.0->gspread) (4.2.4)\n",
            "Requirement already satisfied: rsa<5,>=3.1.4 in /usr/local/lib/python3.7/dist-packages (from google-auth>=1.12.0->gspread) (4.9)\n",
            "Requirement already satisfied: pyasn1-modules>=0.2.1 in /usr/local/lib/python3.7/dist-packages (from google-auth>=1.12.0->gspread) (0.2.8)\n",
            "Requirement already satisfied: requests-oauthlib>=0.7.0 in /usr/local/lib/python3.7/dist-packages (from google-auth-oauthlib>=0.4.1->gspread) (1.3.1)\n",
            "Requirement already satisfied: pyasn1<0.5.0,>=0.4.6 in /usr/local/lib/python3.7/dist-packages (from pyasn1-modules>=0.2.1->google-auth>=1.12.0->gspread) (0.4.8)\n",
            "Requirement already satisfied: requests>=2.0.0 in /usr/local/lib/python3.7/dist-packages (from requests-oauthlib>=0.7.0->google-auth-oauthlib>=0.4.1->gspread) (2.23.0)\n",
            "Requirement already satisfied: oauthlib>=3.0.0 in /usr/local/lib/python3.7/dist-packages (from requests-oauthlib>=0.7.0->google-auth-oauthlib>=0.4.1->gspread) (3.2.0)\n",
            "Requirement already satisfied: chardet<4,>=3.0.2 in /usr/local/lib/python3.7/dist-packages (from requests>=2.0.0->requests-oauthlib>=0.7.0->google-auth-oauthlib>=0.4.1->gspread) (3.0.4)\n",
            "Requirement already satisfied: urllib3!=1.25.0,!=1.25.1,<1.26,>=1.21.1 in /usr/local/lib/python3.7/dist-packages (from requests>=2.0.0->requests-oauthlib>=0.7.0->google-auth-oauthlib>=0.4.1->gspread) (1.24.3)\n",
            "Requirement already satisfied: idna<3,>=2.5 in /usr/local/lib/python3.7/dist-packages (from requests>=2.0.0->requests-oauthlib>=0.7.0->google-auth-oauthlib>=0.4.1->gspread) (2.10)\n",
            "Requirement already satisfied: certifi>=2017.4.17 in /usr/local/lib/python3.7/dist-packages (from requests>=2.0.0->requests-oauthlib>=0.7.0->google-auth-oauthlib>=0.4.1->gspread) (2022.6.15)\n"
          ]
        }
      ]
    },
    {
      "cell_type": "code",
      "source": [
        "# !pip install python-dotenv"
      ],
      "metadata": {
        "colab": {
          "base_uri": "https://localhost:8080/"
        },
        "id": "nIuUJQ8McX4X",
        "outputId": "31f712c8-8b32-483d-fa20-92e97deb5fc7"
      },
      "execution_count": 55,
      "outputs": [
        {
          "output_type": "stream",
          "name": "stdout",
          "text": [
            "Looking in indexes: https://pypi.org/simple, https://us-python.pkg.dev/colab-wheels/public/simple/\n",
            "Collecting python-dotenv\n",
            "  Downloading python_dotenv-0.21.0-py3-none-any.whl (18 kB)\n",
            "Installing collected packages: python-dotenv\n",
            "Successfully installed python-dotenv-0.21.0\n"
          ]
        }
      ]
    },
    {
      "cell_type": "code",
      "source": [
        "# !cd /home/project1/"
      ],
      "metadata": {
        "id": "U0vJMOX5rstD"
      },
      "execution_count": 16,
      "outputs": []
    },
    {
      "cell_type": "code",
      "source": [
        "# import gspread\n",
        "\n",
        "# gc = gspread.service_account(filename=\"service_account.json\")\n",
        "\n",
        "# sh = gc.open(\"Example spreadsheet\")\n",
        "# print(sh.sheet1.get('A1'))"
      ],
      "metadata": {
        "colab": {
          "base_uri": "https://localhost:8080/",
          "height": 381
        },
        "id": "qfAi-GEOdqPf",
        "outputId": "2bdb0490-ae8b-4707-d262-f494d81be10d"
      },
      "execution_count": 17,
      "outputs": [
        {
          "output_type": "error",
          "ename": "FileNotFoundError",
          "evalue": "ignored",
          "traceback": [
            "\u001b[0;31m---------------------------------------------------------------------------\u001b[0m",
            "\u001b[0;31mFileNotFoundError\u001b[0m                         Traceback (most recent call last)",
            "\u001b[0;32m<ipython-input-17-32e27728c4ca>\u001b[0m in \u001b[0;36m<module>\u001b[0;34m\u001b[0m\n\u001b[1;32m      1\u001b[0m \u001b[0;32mimport\u001b[0m \u001b[0mgspread\u001b[0m\u001b[0;34m\u001b[0m\u001b[0;34m\u001b[0m\u001b[0m\n\u001b[1;32m      2\u001b[0m \u001b[0;34m\u001b[0m\u001b[0m\n\u001b[0;32m----> 3\u001b[0;31m \u001b[0mgc\u001b[0m \u001b[0;34m=\u001b[0m \u001b[0mgspread\u001b[0m\u001b[0;34m.\u001b[0m\u001b[0mservice_account\u001b[0m\u001b[0;34m(\u001b[0m\u001b[0mfilename\u001b[0m\u001b[0;34m=\u001b[0m\u001b[0;34m\"service_account.json\"\u001b[0m\u001b[0;34m)\u001b[0m\u001b[0;34m\u001b[0m\u001b[0;34m\u001b[0m\u001b[0m\n\u001b[0m\u001b[1;32m      4\u001b[0m \u001b[0;34m\u001b[0m\u001b[0m\n\u001b[1;32m      5\u001b[0m \u001b[0msh\u001b[0m \u001b[0;34m=\u001b[0m \u001b[0mgc\u001b[0m\u001b[0;34m.\u001b[0m\u001b[0mopen\u001b[0m\u001b[0;34m(\u001b[0m\u001b[0;34m\"Example spreadsheet\"\u001b[0m\u001b[0;34m)\u001b[0m\u001b[0;34m\u001b[0m\u001b[0;34m\u001b[0m\u001b[0m\n",
            "\u001b[0;32m/usr/local/lib/python3.7/dist-packages/gspread/auth.py\u001b[0m in \u001b[0;36mservice_account\u001b[0;34m(filename, scopes, client_factory)\u001b[0m\n\u001b[1;32m    310\u001b[0m     \u001b[0;34m:\u001b[0m\u001b[0mrtype\u001b[0m\u001b[0;34m:\u001b[0m \u001b[0;34m:\u001b[0m\u001b[0;32mclass\u001b[0m\u001b[0;34m:\u001b[0m\u001b[0;31m`\u001b[0m\u001b[0mgspread\u001b[0m\u001b[0;34m.\u001b[0m\u001b[0mclient\u001b[0m\u001b[0;34m.\u001b[0m\u001b[0mClient\u001b[0m\u001b[0;31m`\u001b[0m\u001b[0;34m\u001b[0m\u001b[0;34m\u001b[0m\u001b[0m\n\u001b[1;32m    311\u001b[0m     \"\"\"\n\u001b[0;32m--> 312\u001b[0;31m     \u001b[0mcreds\u001b[0m \u001b[0;34m=\u001b[0m \u001b[0mServiceAccountCredentials\u001b[0m\u001b[0;34m.\u001b[0m\u001b[0mfrom_service_account_file\u001b[0m\u001b[0;34m(\u001b[0m\u001b[0mfilename\u001b[0m\u001b[0;34m,\u001b[0m \u001b[0mscopes\u001b[0m\u001b[0;34m=\u001b[0m\u001b[0mscopes\u001b[0m\u001b[0;34m)\u001b[0m\u001b[0;34m\u001b[0m\u001b[0;34m\u001b[0m\u001b[0m\n\u001b[0m\u001b[1;32m    313\u001b[0m     \u001b[0;32mreturn\u001b[0m \u001b[0mclient_factory\u001b[0m\u001b[0;34m(\u001b[0m\u001b[0mauth\u001b[0m\u001b[0;34m=\u001b[0m\u001b[0mcreds\u001b[0m\u001b[0;34m)\u001b[0m\u001b[0;34m\u001b[0m\u001b[0;34m\u001b[0m\u001b[0m\n\u001b[1;32m    314\u001b[0m \u001b[0;34m\u001b[0m\u001b[0m\n",
            "\u001b[0;32m/usr/local/lib/python3.7/dist-packages/google/oauth2/service_account.py\u001b[0m in \u001b[0;36mfrom_service_account_file\u001b[0;34m(cls, filename, **kwargs)\u001b[0m\n\u001b[1;32m    237\u001b[0m         \"\"\"\n\u001b[1;32m    238\u001b[0m         info, signer = _service_account_info.from_filename(\n\u001b[0;32m--> 239\u001b[0;31m             \u001b[0mfilename\u001b[0m\u001b[0;34m,\u001b[0m \u001b[0mrequire\u001b[0m\u001b[0;34m=\u001b[0m\u001b[0;34m[\u001b[0m\u001b[0;34m\"client_email\"\u001b[0m\u001b[0;34m,\u001b[0m \u001b[0;34m\"token_uri\"\u001b[0m\u001b[0;34m]\u001b[0m\u001b[0;34m\u001b[0m\u001b[0;34m\u001b[0m\u001b[0m\n\u001b[0m\u001b[1;32m    240\u001b[0m         )\n\u001b[1;32m    241\u001b[0m         \u001b[0;32mreturn\u001b[0m \u001b[0mcls\u001b[0m\u001b[0;34m.\u001b[0m\u001b[0m_from_signer_and_info\u001b[0m\u001b[0;34m(\u001b[0m\u001b[0msigner\u001b[0m\u001b[0;34m,\u001b[0m \u001b[0minfo\u001b[0m\u001b[0;34m,\u001b[0m \u001b[0;34m**\u001b[0m\u001b[0mkwargs\u001b[0m\u001b[0;34m)\u001b[0m\u001b[0;34m\u001b[0m\u001b[0;34m\u001b[0m\u001b[0m\n",
            "\u001b[0;32m/usr/local/lib/python3.7/dist-packages/google/auth/_service_account_info.py\u001b[0m in \u001b[0;36mfrom_filename\u001b[0;34m(filename, require)\u001b[0m\n\u001b[1;32m     70\u001b[0m             \u001b[0minfo\u001b[0m \u001b[0;32mand\u001b[0m \u001b[0ma\u001b[0m \u001b[0msigner\u001b[0m \u001b[0minstance\u001b[0m\u001b[0;34m.\u001b[0m\u001b[0;34m\u001b[0m\u001b[0;34m\u001b[0m\u001b[0m\n\u001b[1;32m     71\u001b[0m     \"\"\"\n\u001b[0;32m---> 72\u001b[0;31m     \u001b[0;32mwith\u001b[0m \u001b[0mio\u001b[0m\u001b[0;34m.\u001b[0m\u001b[0mopen\u001b[0m\u001b[0;34m(\u001b[0m\u001b[0mfilename\u001b[0m\u001b[0;34m,\u001b[0m \u001b[0;34m\"r\"\u001b[0m\u001b[0;34m,\u001b[0m \u001b[0mencoding\u001b[0m\u001b[0;34m=\u001b[0m\u001b[0;34m\"utf-8\"\u001b[0m\u001b[0;34m)\u001b[0m \u001b[0;32mas\u001b[0m \u001b[0mjson_file\u001b[0m\u001b[0;34m:\u001b[0m\u001b[0;34m\u001b[0m\u001b[0;34m\u001b[0m\u001b[0m\n\u001b[0m\u001b[1;32m     73\u001b[0m         \u001b[0mdata\u001b[0m \u001b[0;34m=\u001b[0m \u001b[0mjson\u001b[0m\u001b[0;34m.\u001b[0m\u001b[0mload\u001b[0m\u001b[0;34m(\u001b[0m\u001b[0mjson_file\u001b[0m\u001b[0;34m)\u001b[0m\u001b[0;34m\u001b[0m\u001b[0;34m\u001b[0m\u001b[0m\n\u001b[1;32m     74\u001b[0m         \u001b[0;32mreturn\u001b[0m \u001b[0mdata\u001b[0m\u001b[0;34m,\u001b[0m \u001b[0mfrom_dict\u001b[0m\u001b[0;34m(\u001b[0m\u001b[0mdata\u001b[0m\u001b[0;34m,\u001b[0m \u001b[0mrequire\u001b[0m\u001b[0;34m=\u001b[0m\u001b[0mrequire\u001b[0m\u001b[0;34m)\u001b[0m\u001b[0;34m\u001b[0m\u001b[0;34m\u001b[0m\u001b[0m\n",
            "\u001b[0;31mFileNotFoundError\u001b[0m: [Errno 2] No such file or directory: 'service_account.json'"
          ]
        }
      ]
    },
    {
      "cell_type": "code",
      "source": [
        "#\n",
        "# PRODUCTS INVENTORY (OPTION C - GOOGLE SHEET)\n",
        "# ... run this cell to access the google sheet\n",
        "# ... or comment it out if you end up choosing a different option\n",
        "#\n",
        "# FYI - you'll have to figure out how to transform the sheets data \n",
        "# ... into a products variable resembling the provided one\n",
        "# ... and you may have to import third party package(s) to make it work :-)\n",
        "\n",
        "\n",
        "# import os\n",
        "# from dotenv import load_dotenv\n",
        "# import gspread\n",
        "# from oauth2client.service_account import ServiceAccountCredentials\n",
        "\n",
        "# load_dotenv()\n",
        "\n",
        "# DOCUMENT_ID = \"Shopping Cart Project - Datastore (PUBLIC)\" # public access database\n",
        "# SHEET_NAME = \"products-default\" # or use the \"products-custom\" sheet, based on your preference\n",
        "\n",
        "# CREDENTIALS_FILEPATH = os.path.join(os.path.dirname(\"/Users/tejan/OneDrive/Documents/Python\"), \"google-credentials.json\")\n",
        "\n",
        "# AUTH_SCOPE = [\n",
        "#     \"https://www.googleapis.com/auth/spreadsheets\", #> Allows read/write access to the user's sheets and their properties.\n",
        "#     \"https://www.googleapis.com/auth/drive.file\" #> Per-file access to files created or opened by the app.\n",
        "# ]\n",
        "\n",
        "# credentials = ServiceAccountCredentials.from_json_keyfile_name(CREDENTIALS_FILEPATH, AUTH_SCOPE)\n",
        "# print(\"CREDS:\", type(credentials)) #> <class 'oauth2client.service_account.ServiceAccountCredentials'>\n",
        "\n",
        "# client = gspread.authorize(credentials)\n",
        "# print(\"CLIENT:\", type(client)) #> <class 'gspread.client.Client'>"
      ],
      "metadata": {
        "id": "Bp9jvdee8-zB",
        "colab": {
          "base_uri": "https://localhost:8080/",
          "height": 357
        },
        "outputId": "42b2813a-7c37-4f01-f414-9e83bedb4ea6"
      },
      "execution_count": 60,
      "outputs": [
        {
          "output_type": "error",
          "ename": "FileNotFoundError",
          "evalue": "ignored",
          "traceback": [
            "\u001b[0;31m---------------------------------------------------------------------------\u001b[0m",
            "\u001b[0;31mFileNotFoundError\u001b[0m                         Traceback (most recent call last)",
            "\u001b[0;32m<ipython-input-60-abac54e123ca>\u001b[0m in \u001b[0;36m<module>\u001b[0;34m\u001b[0m\n\u001b[1;32m     27\u001b[0m ]\n\u001b[1;32m     28\u001b[0m \u001b[0;34m\u001b[0m\u001b[0m\n\u001b[0;32m---> 29\u001b[0;31m \u001b[0mcredentials\u001b[0m \u001b[0;34m=\u001b[0m \u001b[0mServiceAccountCredentials\u001b[0m\u001b[0;34m.\u001b[0m\u001b[0mfrom_json_keyfile_name\u001b[0m\u001b[0;34m(\u001b[0m\u001b[0mCREDENTIALS_FILEPATH\u001b[0m\u001b[0;34m,\u001b[0m \u001b[0mAUTH_SCOPE\u001b[0m\u001b[0;34m)\u001b[0m\u001b[0;34m\u001b[0m\u001b[0;34m\u001b[0m\u001b[0m\n\u001b[0m\u001b[1;32m     30\u001b[0m \u001b[0mprint\u001b[0m\u001b[0;34m(\u001b[0m\u001b[0;34m\"CREDS:\"\u001b[0m\u001b[0;34m,\u001b[0m \u001b[0mtype\u001b[0m\u001b[0;34m(\u001b[0m\u001b[0mcredentials\u001b[0m\u001b[0;34m)\u001b[0m\u001b[0;34m)\u001b[0m \u001b[0;31m#> <class 'oauth2client.service_account.ServiceAccountCredentials'>\u001b[0m\u001b[0;34m\u001b[0m\u001b[0;34m\u001b[0m\u001b[0m\n\u001b[1;32m     31\u001b[0m \u001b[0;34m\u001b[0m\u001b[0m\n",
            "\u001b[0;32m/usr/local/lib/python3.7/dist-packages/oauth2client/service_account.py\u001b[0m in \u001b[0;36mfrom_json_keyfile_name\u001b[0;34m(cls, filename, scopes, token_uri, revoke_uri)\u001b[0m\n\u001b[1;32m    217\u001b[0m                 \u001b[0mthe\u001b[0m \u001b[0mkeyfile\u001b[0m\u001b[0;34m.\u001b[0m\u001b[0;34m\u001b[0m\u001b[0;34m\u001b[0m\u001b[0m\n\u001b[1;32m    218\u001b[0m         \"\"\"\n\u001b[0;32m--> 219\u001b[0;31m         \u001b[0;32mwith\u001b[0m \u001b[0mopen\u001b[0m\u001b[0;34m(\u001b[0m\u001b[0mfilename\u001b[0m\u001b[0;34m,\u001b[0m \u001b[0;34m'r'\u001b[0m\u001b[0;34m)\u001b[0m \u001b[0;32mas\u001b[0m \u001b[0mfile_obj\u001b[0m\u001b[0;34m:\u001b[0m\u001b[0;34m\u001b[0m\u001b[0;34m\u001b[0m\u001b[0m\n\u001b[0m\u001b[1;32m    220\u001b[0m             \u001b[0mclient_credentials\u001b[0m \u001b[0;34m=\u001b[0m \u001b[0mjson\u001b[0m\u001b[0;34m.\u001b[0m\u001b[0mload\u001b[0m\u001b[0;34m(\u001b[0m\u001b[0mfile_obj\u001b[0m\u001b[0;34m)\u001b[0m\u001b[0;34m\u001b[0m\u001b[0;34m\u001b[0m\u001b[0m\n\u001b[1;32m    221\u001b[0m         return cls._from_parsed_json_keyfile(client_credentials, scopes,\n",
            "\u001b[0;31mFileNotFoundError\u001b[0m: [Errno 2] No such file or directory: '/Users/tejan/OneDrive/Documents/google-credentials.json'"
          ]
        }
      ]
    },
    {
      "cell_type": "markdown",
      "source": [
        "### Image Display Examples"
      ],
      "metadata": {
        "id": "NznIzPBWfxMt"
      }
    },
    {
      "cell_type": "code",
      "source": [
        "#\n",
        "# IMAGE DISPLAY\n",
        "# ... run this cell to display some example images\n",
        "# ... (and feel free to adapt the approach if you'd like to display the product images later)\n",
        "#\n",
        "\n",
        "# from IPython.display import Image, display \n",
        "\n",
        "# print(\"-----------\")\n",
        "# print(\"EXAMPLE IMAGES:\")\n",
        "\n",
        "# print(\"-----------\")\n",
        "# image_url = \"https://upload.wikimedia.org/wikipedia/commons/thumb/9/9f/Georgetown_Hoyas_logo.svg/64px-Georgetown_Hoyas_logo.svg.png\"\n",
        "# display(Image(url=image_url, height=100))\n",
        "\n",
        "# print(\"-----------\")\n",
        "# display(Image(url=\"https://www.python.org/static/community_logos/python-powered-w-200x80.png\"))\n",
        "\n",
        "# print(\"-----------\")\n",
        "# display(Image(url=\"https://www.shareicon.net/data/128x128/2016/05/04/759867_food_512x512.png\", height=100))"
      ],
      "metadata": {
        "colab": {
          "base_uri": "https://localhost:8080/",
          "height": 398
        },
        "id": "fUgRCt3Gfygc",
        "outputId": "c7c36fa1-6296-44bb-e2ce-18b9cf51d901"
      },
      "execution_count": null,
      "outputs": [
        {
          "output_type": "stream",
          "name": "stdout",
          "text": [
            "-----------\n",
            "EXAMPLE IMAGES:\n",
            "-----------\n"
          ]
        },
        {
          "output_type": "display_data",
          "data": {
            "text/html": [
              "<img src=\"https://upload.wikimedia.org/wikipedia/commons/thumb/9/9f/Georgetown_Hoyas_logo.svg/64px-Georgetown_Hoyas_logo.svg.png\" height=\"100\"/>"
            ],
            "text/plain": [
              "<IPython.core.display.Image object>"
            ]
          },
          "metadata": {}
        },
        {
          "output_type": "stream",
          "name": "stdout",
          "text": [
            "-----------\n"
          ]
        },
        {
          "output_type": "display_data",
          "data": {
            "text/html": [
              "<img src=\"https://www.python.org/static/community_logos/python-powered-w-200x80.png\"/>"
            ],
            "text/plain": [
              "<IPython.core.display.Image object>"
            ]
          },
          "metadata": {}
        },
        {
          "output_type": "stream",
          "name": "stdout",
          "text": [
            "-----------\n"
          ]
        },
        {
          "output_type": "display_data",
          "data": {
            "text/html": [
              "<img src=\"https://www.shareicon.net/data/128x128/2016/05/04/759867_food_512x512.png\" height=\"100\"/>"
            ],
            "text/plain": [
              "<IPython.core.display.Image object>"
            ]
          },
          "metadata": {}
        }
      ]
    },
    {
      "cell_type": "markdown",
      "source": [
        "### Email Sending Function"
      ],
      "metadata": {
        "id": "HAD7Vc6j_Nq1"
      }
    },
    {
      "cell_type": "markdown",
      "source": [
        "See: \n",
        "\n",
        "  + https://github.com/prof-rossetti/intro-to-python/blob/main/notes/python/packages/sendgrid.md\n",
        "  + https://sendgrid.com/\n",
        "  + https://github.com/prof-rossetti/intro-to-python/issues/41\n"
      ],
      "metadata": {
        "id": "lTm52VecATqw"
      }
    },
    {
      "cell_type": "code",
      "source": [
        "# if you want to send the receipt via email,\n",
        "# ... using the SendGrid package\n",
        "# ... you must uncomment and run this cell once\n",
        "# ... to install the package (b/c is is not in colab by default like other packages are)\n",
        "\n",
        "\n",
        "# %%capture\n",
        "# !pip install sendgrid==6.5.0"
      ],
      "metadata": {
        "id": "ZAn_aiFsJmmJ"
      },
      "execution_count": 7,
      "outputs": []
    },
    {
      "cell_type": "code",
      "source": [
        "# if you want to send the receipt via email,\n",
        "# ... you must uncomment and run this cell once\n",
        "# ... to securely provide your credentials\n",
        "\n",
        "\n",
        "# from getpass import getpass\n",
        "\n",
        "# SENDGRID_API_KEY = getpass(\"Please input your Sendgrid API Key: \")\n",
        "# SENDER_ADDRESS = getpass(\"Please input your Sendgrid API Key: \")\n",
        "# SENDGRID_TEMPLATE_ID = getpass(\"Please input your Sendgrid API Template ID\")"
      ],
      "metadata": {
        "id": "JjlSSRB7JOSM",
        "colab": {
          "base_uri": "https://localhost:8080/"
        },
        "outputId": "d8139c37-a63a-4a70-f993-1f0e9ed88723"
      },
      "execution_count": 47,
      "outputs": [
        {
          "name": "stdout",
          "output_type": "stream",
          "text": [
            "Please input your Sendgrid API Key: ··········\n",
            "Please input your Sendgrid API Key: ··········\n",
            "Please input your Sendgrid API Template ID··········\n"
          ]
        }
      ]
    },
    {
      "cell_type": "markdown",
      "source": [
        "# Solution\n",
        "\n"
      ],
      "metadata": {
        "id": "X5X7eG8qTGWG"
      }
    },
    {
      "cell_type": "code",
      "source": [
        "# USD formatting\n",
        "def to_usd(my_price):\n",
        "    \"\"\"\n",
        "    Converts a numeric value to usd-formatted string, for printing and display purposes.\n",
        "\n",
        "    Param: my_price (int or float) like 4000.444444\n",
        "\n",
        "    Example: to_usd(4000.444444)\n",
        "\n",
        "    Returns: $4,000.44\n",
        "    \"\"\"\n",
        "    return f\"${my_price:,.2f}\" #> $12,000.71\n",
        "\n",
        "\n",
        "# example invocations:\n",
        "print(to_usd(4.5))\n",
        "print(to_usd(1234567890.98765))"
      ],
      "metadata": {
        "colab": {
          "base_uri": "https://localhost:8080/"
        },
        "id": "A0YYhJcBVREW",
        "outputId": "816fcf78-047e-4781-ece1-1adcb8a20e96"
      },
      "execution_count": 3,
      "outputs": [
        {
          "output_type": "stream",
          "name": "stdout",
          "text": [
            "$4.50\n",
            "$1,234,567,890.99\n"
          ]
        }
      ]
    },
    {
      "cell_type": "code",
      "source": [
        "# Sendgrid installation\n",
        "!pip install sendgrid==6.5.0"
      ],
      "metadata": {
        "colab": {
          "base_uri": "https://localhost:8080/"
        },
        "id": "Gn4OCkozU1W9",
        "outputId": "92e82d46-d72c-4a21-d667-41650f3d5507"
      },
      "execution_count": 4,
      "outputs": [
        {
          "output_type": "stream",
          "name": "stdout",
          "text": [
            "Looking in indexes: https://pypi.org/simple, https://us-python.pkg.dev/colab-wheels/public/simple/\n",
            "Requirement already satisfied: sendgrid==6.5.0 in /usr/local/lib/python3.7/dist-packages (6.5.0)\n",
            "Requirement already satisfied: python-http-client>=3.2.1 in /usr/local/lib/python3.7/dist-packages (from sendgrid==6.5.0) (3.3.7)\n",
            "Requirement already satisfied: starkbank-ecdsa>=1.0.0 in /usr/local/lib/python3.7/dist-packages (from sendgrid==6.5.0) (2.1.0)\n"
          ]
        }
      ]
    },
    {
      "cell_type": "code",
      "source": [
        "# Sendgrid API keys\n",
        "from getpass import getpass\n",
        "\n",
        "SENDGRID_API_KEY = getpass(\"Please input your unique Sendgrid API Key(found in your SendGrid account settings): \")\n",
        "SENDER_ADDRESS = getpass(\"Please input your Sendgrid associated email address: \")\n",
        "SENDGRID_TEMPLATE_ID = \"d-c4501d25b8ca4dc4af77b9fb7c5a595d\""
      ],
      "metadata": {
        "colab": {
          "base_uri": "https://localhost:8080/"
        },
        "id": "la0B_AY5U5B6",
        "outputId": "c746b73f-ab56-43dd-d21f-b319407ddc6a"
      },
      "execution_count": 5,
      "outputs": [
        {
          "name": "stdout",
          "output_type": "stream",
          "text": [
            "Please input your unique Sendgrid API Key(found in your SendGrid account settings): ··········\n",
            "Please input your Sendgrid associated email address: ··········\n"
          ]
        }
      ]
    },
    {
      "cell_type": "code",
      "source": [
        "import sys\n",
        "from datetime import datetime\n",
        "\n",
        "\n",
        "def list_products(products):\n",
        "    for product in products:\n",
        "        print(\"{}\\t{:70}\\t{:>10}\".format(product[\"id\"],product[\"name\"],to_usd(product[\"price\"])))\n",
        "\n",
        "\n",
        "# Method to gather valid input ids until the checkout process is done\n",
        "def gather_input(product_ids):\n",
        "    groceryid_list = []\n",
        "    while True:\n",
        "        item_input = input(\"Input product identifier: \")\n",
        "        if item_input.upper() == \"DONE\":\n",
        "            break\n",
        "        try:\n",
        "            item_input = int(item_input)\n",
        "            if item_input in product_ids:\n",
        "                groceryid_list.append(item_input)\n",
        "            else:\n",
        "                print(\"Not in our inventory list! Please check and try again.\")\n",
        "        except ValueError as v:\n",
        "            print(\"Please enter a valid integer id or type 'DONE'\")\n",
        "        except:\n",
        "            print(\"Unexpected error:\", sys.exc_info()[0])\n",
        "    return groceryid_list\n",
        "            \n",
        "\n",
        "# Method to create a receipt by adding each item from the groceryid list into the receipt items and totaling the cost\n",
        "def create_receipt(inventory, customer):\n",
        "    receipt_items = []\n",
        "    subtotal = 0\n",
        "    for sold_unit in customer:\n",
        "        for item in inventory:\n",
        "            if item[\"id\"] == sold_unit:\n",
        "                receipt_items.append(\"{:70}\\t{:>10}\".format(item[\"name\"],to_usd(item[\"price\"])))\n",
        "                subtotal += item[\"price\"]\n",
        "    return receipt_items, subtotal\n",
        "\n",
        "# Method to send email to customer using sendgrid\n",
        "def send_email(email_receipt, email_address):\n",
        "    from sendgrid import SendGridAPIClient\n",
        "    from sendgrid.helpers.mail import Mail\n",
        "\n",
        "    sendgrid_client = SendGridAPIClient(api_key=SENDGRID_API_KEY)\n",
        "\n",
        "    message = Mail(from_email=SENDER_ADDRESS, to_emails=CUSTOMER_ADDRESS)\n",
        "    message.template_id = SENDGRID_TEMPLATE_ID\n",
        "    message.dynamic_template_data = email_message\n",
        "\n",
        "    try:\n",
        "        response = sendgrid_client.send(message)\n",
        "\n",
        "    except Exception as err:\n",
        "        print(type(err))\n",
        "        print(err)\n",
        "\n",
        "\n",
        "# Collect all product ids into an inventory list\n",
        "product_ids = []\n",
        "for product in products:\n",
        "    product_ids.append(int(product[\"id\"]))\n",
        "\n",
        "# Print out current inventory list\n",
        "print(\"Current Product List:\\n\")\n",
        "list_products(products)\n",
        "\n",
        "# Begin checkout process\n",
        "print(\"\\nPlease start checkout process by inputting product ids below, when finished type 'DONE'\\n\")\n",
        "groceryid_list = gather_input(product_ids)\n",
        "\n",
        "\n",
        "\n",
        "# Create and display receipt\n",
        "receipt = create_receipt(products, groceryid_list)\n",
        "email_receipt = []\n",
        "email_message = {}\n",
        "print(\"\\n-------------- \\nGROCERCY GALORE\")\n",
        "print(\"-------------- \\nWWW.GROCERYGALORE.COM\")\n",
        "time = datetime.now()\n",
        "timestr = time.strftime(\"%Y-%m-%d %I:%M %p\")\n",
        "email_message[\"timestamp\"] = timestr\n",
        "print(\"-------------- \\nCHECKOUT TIME: \", timestr)\n",
        "print(\"-------------- \\nSELECTED PRODUCTS: \")\n",
        "for item in receipt[0]:\n",
        "    print(\" ... \" + item)\n",
        "    email_receipt.append(item)\n",
        "email_message[\"items\"] = email_receipt\n",
        "print(\"--------------\")\n",
        "print(\"Subtotal: \" + (to_usd(receipt[1])))\n",
        "tax = receipt[1]*0.0875\n",
        "print(\"Tax: \" + to_usd(tax))\n",
        "total = to_usd(receipt[1] + tax)\n",
        "email_message[\"total\"] = total\n",
        "print(\"Total: \" + total)\n",
        "\n",
        "# Email receipt if desired\n",
        "if input(\"\\nEMAIL RECEIPT? Y/N \").upper() == \"Y\":\n",
        "    CUSTOMER_ADDRESS = input(\"Enter email address:\")\n",
        "    send_email(email_message, CUSTOMER_ADDRESS)\n",
        "\n",
        "print(\"-------------- \\nTHANKS FOR SHOPPING WITH US! \\n--------------\")\n"
      ],
      "metadata": {
        "colab": {
          "base_uri": "https://localhost:8080/",
          "height": 1000
        },
        "outputId": "ca819fe8-2f17-43e3-8c00-f6057f972b9d",
        "id": "q7SPMXkj7H0g"
      },
      "execution_count": 6,
      "outputs": [
        {
          "name": "stdout",
          "output_type": "stream",
          "text": [
            "Current Product List:\n",
            "\n",
            "1\tChocolate Sandwich Cookies                                            \t     $3.50\n",
            "2\tAll-Seasons Salt                                                      \t     $4.99\n",
            "3\tRobust Golden Unsweetened Oolong Tea                                  \t     $2.49\n",
            "4\tSmart Ones Classic Favorites Mini Rigatoni With Vodka Cream Sauce     \t     $6.99\n",
            "5\tGreen Chile Anytime Sauce                                             \t     $7.99\n",
            "6\tDry Nose Oil                                                          \t    $21.99\n",
            "7\tPure Coconut Water With Orange                                        \t     $3.50\n",
            "8\tCut Russet Potatoes Steam N' Mash                                     \t     $4.25\n",
            "9\tLight Strawberry Blueberry Yogurt                                     \t     $6.50\n",
            "10\tSparkling Orange Juice & Prickly Pear Beverage                        \t     $2.99\n",
            "11\tPeach Mango Juice                                                     \t     $1.99\n",
            "12\tChocolate Fudge Layer Cake                                            \t    $18.50\n",
            "13\tSaline Nasal Mist                                                     \t    $16.00\n",
            "14\tFresh Scent Dishwasher Cleaner                                        \t     $4.99\n",
            "15\tOvernight Diapers Size 6                                              \t    $25.50\n",
            "16\tMint Chocolate Flavored Syrup                                         \t     $4.50\n",
            "17\tRendered Duck Fat                                                     \t     $9.99\n",
            "18\tPizza for One Suprema  Frozen Pizza                                   \t    $12.50\n",
            "19\tGluten Free Quinoa Three Cheese & Mushroom Blend                      \t     $3.99\n",
            "20\tPomegranate Cranberry & Aloe Vera Enrich Drink                        \t     $4.25\n",
            "\n",
            "Please start checkout process by inputting product ids below, when finished type 'DONE'\n",
            "\n",
            "Input product identifier: 3\n",
            "Input product identifier: done\n",
            "\n",
            "-------------- \n",
            "GROCERCY GALORE\n",
            "-------------- \n",
            "WWW.GROCERYGALORE.COM\n",
            "-------------- \n",
            "CHECKOUT TIME:  2022-09-26 02:57 AM\n",
            "-------------- \n",
            "SELECTED PRODUCTS: \n",
            " ... Robust Golden Unsweetened Oolong Tea                                  \t     $2.49\n",
            "--------------\n",
            "Subtotal: $2.49\n",
            "Tax: $0.22\n",
            "Total: $2.71\n",
            "\n",
            "EMAIL RECEIPT? Y/N y\n"
          ]
        },
        {
          "output_type": "error",
          "ename": "KeyboardInterrupt",
          "evalue": "ignored",
          "traceback": [
            "\u001b[0;31m---------------------------------------------------------------------------\u001b[0m",
            "\u001b[0;31mKeyboardInterrupt\u001b[0m                         Traceback (most recent call last)",
            "\u001b[0;32m<ipython-input-6-343c64f5e8d7>\u001b[0m in \u001b[0;36m<module>\u001b[0;34m\u001b[0m\n\u001b[1;32m     98\u001b[0m \u001b[0;31m# Email receipt if desired\u001b[0m\u001b[0;34m\u001b[0m\u001b[0;34m\u001b[0m\u001b[0;34m\u001b[0m\u001b[0m\n\u001b[1;32m     99\u001b[0m \u001b[0;32mif\u001b[0m \u001b[0minput\u001b[0m\u001b[0;34m(\u001b[0m\u001b[0;34m\"\\nEMAIL RECEIPT? Y/N \"\u001b[0m\u001b[0;34m)\u001b[0m\u001b[0;34m.\u001b[0m\u001b[0mupper\u001b[0m\u001b[0;34m(\u001b[0m\u001b[0;34m)\u001b[0m \u001b[0;34m==\u001b[0m \u001b[0;34m\"Y\"\u001b[0m\u001b[0;34m:\u001b[0m\u001b[0;34m\u001b[0m\u001b[0;34m\u001b[0m\u001b[0m\n\u001b[0;32m--> 100\u001b[0;31m     \u001b[0mCUSTOMER_ADDRESS\u001b[0m \u001b[0;34m=\u001b[0m \u001b[0minput\u001b[0m\u001b[0;34m(\u001b[0m\u001b[0;34m\"Enter email address:\"\u001b[0m\u001b[0;34m)\u001b[0m\u001b[0;34m\u001b[0m\u001b[0;34m\u001b[0m\u001b[0m\n\u001b[0m\u001b[1;32m    101\u001b[0m     \u001b[0msend_email\u001b[0m\u001b[0;34m(\u001b[0m\u001b[0memail_message\u001b[0m\u001b[0;34m,\u001b[0m \u001b[0mCUSTOMER_ADDRESS\u001b[0m\u001b[0;34m)\u001b[0m\u001b[0;34m\u001b[0m\u001b[0;34m\u001b[0m\u001b[0m\n\u001b[1;32m    102\u001b[0m \u001b[0;34m\u001b[0m\u001b[0m\n",
            "\u001b[0;32m/usr/local/lib/python3.7/dist-packages/ipykernel/kernelbase.py\u001b[0m in \u001b[0;36mraw_input\u001b[0;34m(self, prompt)\u001b[0m\n\u001b[1;32m    861\u001b[0m             \u001b[0mself\u001b[0m\u001b[0;34m.\u001b[0m\u001b[0m_parent_ident\u001b[0m\u001b[0;34m,\u001b[0m\u001b[0;34m\u001b[0m\u001b[0;34m\u001b[0m\u001b[0m\n\u001b[1;32m    862\u001b[0m             \u001b[0mself\u001b[0m\u001b[0;34m.\u001b[0m\u001b[0m_parent_header\u001b[0m\u001b[0;34m,\u001b[0m\u001b[0;34m\u001b[0m\u001b[0;34m\u001b[0m\u001b[0m\n\u001b[0;32m--> 863\u001b[0;31m             \u001b[0mpassword\u001b[0m\u001b[0;34m=\u001b[0m\u001b[0;32mFalse\u001b[0m\u001b[0;34m,\u001b[0m\u001b[0;34m\u001b[0m\u001b[0;34m\u001b[0m\u001b[0m\n\u001b[0m\u001b[1;32m    864\u001b[0m         )\n\u001b[1;32m    865\u001b[0m \u001b[0;34m\u001b[0m\u001b[0m\n",
            "\u001b[0;32m/usr/local/lib/python3.7/dist-packages/ipykernel/kernelbase.py\u001b[0m in \u001b[0;36m_input_request\u001b[0;34m(self, prompt, ident, parent, password)\u001b[0m\n\u001b[1;32m    902\u001b[0m             \u001b[0;32mexcept\u001b[0m \u001b[0mKeyboardInterrupt\u001b[0m\u001b[0;34m:\u001b[0m\u001b[0;34m\u001b[0m\u001b[0;34m\u001b[0m\u001b[0m\n\u001b[1;32m    903\u001b[0m                 \u001b[0;31m# re-raise KeyboardInterrupt, to truncate traceback\u001b[0m\u001b[0;34m\u001b[0m\u001b[0;34m\u001b[0m\u001b[0;34m\u001b[0m\u001b[0m\n\u001b[0;32m--> 904\u001b[0;31m                 \u001b[0;32mraise\u001b[0m \u001b[0mKeyboardInterrupt\u001b[0m\u001b[0;34m(\u001b[0m\u001b[0;34m\"Interrupted by user\"\u001b[0m\u001b[0;34m)\u001b[0m \u001b[0;32mfrom\u001b[0m \u001b[0;32mNone\u001b[0m\u001b[0;34m\u001b[0m\u001b[0;34m\u001b[0m\u001b[0m\n\u001b[0m\u001b[1;32m    905\u001b[0m             \u001b[0;32mexcept\u001b[0m \u001b[0mException\u001b[0m \u001b[0;32mas\u001b[0m \u001b[0me\u001b[0m\u001b[0;34m:\u001b[0m\u001b[0;34m\u001b[0m\u001b[0;34m\u001b[0m\u001b[0m\n\u001b[1;32m    906\u001b[0m                 \u001b[0mself\u001b[0m\u001b[0;34m.\u001b[0m\u001b[0mlog\u001b[0m\u001b[0;34m.\u001b[0m\u001b[0mwarning\u001b[0m\u001b[0;34m(\u001b[0m\u001b[0;34m\"Invalid Message:\"\u001b[0m\u001b[0;34m,\u001b[0m \u001b[0mexc_info\u001b[0m\u001b[0;34m=\u001b[0m\u001b[0;32mTrue\u001b[0m\u001b[0;34m)\u001b[0m\u001b[0;34m\u001b[0m\u001b[0;34m\u001b[0m\u001b[0m\n",
            "\u001b[0;31mKeyboardInterrupt\u001b[0m: Interrupted by user"
          ]
        }
      ]
    },
    {
      "cell_type": "markdown",
      "source": [
        "# Scratch Work\n",
        "\n",
        "Feel free to use the section below for scratch work, which will not be evaluated. \n",
        "\n",
        "If there is any solution code make sure to include it in the \"Solution\" section above instead!"
      ],
      "metadata": {
        "id": "qnlJVq8VYEKI"
      }
    },
    {
      "cell_type": "code",
      "source": [
        "# from pprint import pprint\n",
        "\n",
        "# pprint(products)"
      ],
      "metadata": {
        "id": "ITePMxshYPQe"
      },
      "execution_count": 39,
      "outputs": []
    },
    {
      "cell_type": "code",
      "source": [
        "# selected_id = 9\n",
        "# matching_products = [p for p in products if p[\"id\"] == selected_id]\n",
        "# print(matching_products)"
      ],
      "metadata": {
        "id": "xLQG6Tl1YPvM"
      },
      "execution_count": 38,
      "outputs": []
    },
    {
      "cell_type": "code",
      "source": [
        "\n"
      ],
      "metadata": {
        "id": "2TMQMVUDSUe3"
      },
      "execution_count": 50,
      "outputs": []
    }
  ]
}