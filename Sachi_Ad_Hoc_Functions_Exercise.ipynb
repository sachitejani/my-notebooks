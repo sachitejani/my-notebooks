{
  "nbformat": 4,
  "nbformat_minor": 0,
  "metadata": {
    "colab": {
      "provenance": [],
      "collapsed_sections": [],
      "authorship_tag": "ABX9TyPGne3pQbdeUtEuhMV9Zu+i",
      "include_colab_link": true
    },
    "kernelspec": {
      "name": "python3",
      "display_name": "Python 3"
    },
    "language_info": {
      "name": "python"
    }
  },
  "cells": [
    {
      "cell_type": "markdown",
      "metadata": {
        "id": "view-in-github",
        "colab_type": "text"
      },
      "source": [
        "<a href=\"https://colab.research.google.com/github/sachitejani/my-notebooks/blob/main/Sachi_Ad_Hoc_Functions_Exercise.ipynb\" target=\"_parent\"><img src=\"https://colab.research.google.com/assets/colab-badge.svg\" alt=\"Open In Colab\"/></a>"
      ]
    },
    {
      "cell_type": "code",
      "execution_count": 1,
      "metadata": {
        "colab": {
          "base_uri": "https://localhost:8080/"
        },
        "id": "TVcrHbHsr9Hi",
        "outputId": "a150a1cb-bdce-4435-ae3d-2ff9afbc00e6"
      },
      "outputs": [
        {
          "output_type": "stream",
          "name": "stdout",
          "text": [
            "900\n",
            "300\n",
            "1000\n"
          ]
        }
      ],
      "source": [
        "# FUNCTION DEFINITION\n",
        "\n",
        "\n",
        "def enlarge(n):\n",
        "    return n * 100\n",
        "\n",
        "\n",
        "# FUNCTION INVOCATIONS\n",
        "\n",
        "print(enlarge(9))\n",
        "print(enlarge(3))\n",
        "\n",
        "x = 10\n",
        "print(enlarge(x))\n",
        "\n",
        "#other built in functions we have been using: input(), type()"
      ]
    },
    {
      "cell_type": "code",
      "source": [
        "def display_winner(player_choice, computer_choice):\n",
        "    if player_choice == \"rock\":\n",
        "        if computer_choice == \"rock\":\n",
        "            print(\"Tie\")\n",
        "        elif computer_choice == \"paper\":\n",
        "            print(\"Computer\")\n",
        "        else:\n",
        "            print(\"Player\")\n",
        "    elif player_choice == \"paper\":\n",
        "        if computer_choice == \"rock\":\n",
        "            print(\"Player\")\n",
        "        elif computer_choice == \"paper\":\n",
        "            print(\"Tie\")\n",
        "        else:\n",
        "            print(\"Computer\")\n",
        "    else:\n",
        "        if computer_choice == \"rock\":\n",
        "            print(\"Computer\")\n",
        "        elif computer_choice == \"paper\":\n",
        "            print(\"Player\")\n",
        "        else:\n",
        "            print(\"Tie\")"
      ],
      "metadata": {
        "id": "g5xFZAtJsooG"
      },
      "execution_count": null,
      "outputs": []
    },
    {
      "cell_type": "code",
      "source": [
        "def determine_winner(player_choice, computer_choice):\n",
        "    if player_choice == \"rock\":\n",
        "        if computer_choice == \"rock\":\n",
        "            return \"Tie\"\n",
        "        elif computer_choice == \"paper\":\n",
        "            return \"Computer\"\n",
        "        else:\n",
        "            return \"Player\"\n",
        "    elif player_choice == \"paper\":\n",
        "        if computer_choice == \"rock\":\n",
        "            return \"Player\"\n",
        "        elif computer_choice == \"paper\":\n",
        "            return \"Tie\"\n",
        "        else:\n",
        "            return \"Computer\"\n",
        "    else:\n",
        "        if computer_choice == \"rock\":\n",
        "            return \"Computer\"\n",
        "        elif computer_choice == \"paper\":\n",
        "            return \"Player\"\n",
        "        else:\n",
        "            return \"Tie\"\n",
        "print (determine_winner(\"rock\",\"paper\"))"
      ],
      "metadata": {
        "colab": {
          "base_uri": "https://localhost:8080/"
        },
        "id": "ReumDj_guL8e",
        "outputId": "542cd6a3-7ac6-42e8-bc70-7b30a11971b1"
      },
      "execution_count": 3,
      "outputs": [
        {
          "output_type": "stream",
          "name": "stdout",
          "text": [
            "Computer\n"
          ]
        }
      ]
    }
  ]
}